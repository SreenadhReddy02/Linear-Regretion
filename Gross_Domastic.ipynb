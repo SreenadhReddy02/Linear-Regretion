{
 "cells": [
  {
   "cell_type": "code",
   "execution_count": 1,
   "id": "49dacd23",
   "metadata": {},
   "outputs": [],
   "source": [
    "import warnings\n",
    "warnings.simplefilter('ignore')"
   ]
  },
  {
   "cell_type": "code",
   "execution_count": 2,
   "id": "cbf66bf5",
   "metadata": {},
   "outputs": [],
   "source": [
    "import numpy as np\n",
    "import pandas as pd"
   ]
  },
  {
   "cell_type": "code",
   "execution_count": 3,
   "id": "9fef16a8",
   "metadata": {},
   "outputs": [],
   "source": [
    "import matplotlib.pyplot as plt\n",
    "%matplotlib inline"
   ]
  },
  {
   "cell_type": "code",
   "execution_count": 4,
   "id": "fe9618c4",
   "metadata": {},
   "outputs": [],
   "source": [
    "import matplotlib.pyplot as plt\n",
    "%matplotlib inline"
   ]
  },
  {
   "cell_type": "code",
   "execution_count": 5,
   "id": "9c7fe28e",
   "metadata": {},
   "outputs": [],
   "source": [
    "dataset = pd.read_csv('Gross.csv')"
   ]
  },
  {
   "cell_type": "code",
   "execution_count": 6,
   "id": "44eafc2e",
   "metadata": {},
   "outputs": [
    {
     "data": {
      "text/html": [
       "<div>\n",
       "<style scoped>\n",
       "    .dataframe tbody tr th:only-of-type {\n",
       "        vertical-align: middle;\n",
       "    }\n",
       "\n",
       "    .dataframe tbody tr th {\n",
       "        vertical-align: top;\n",
       "    }\n",
       "\n",
       "    .dataframe thead th {\n",
       "        text-align: right;\n",
       "    }\n",
       "</style>\n",
       "<table border=\"1\" class=\"dataframe\">\n",
       "  <thead>\n",
       "    <tr style=\"text-align: right;\">\n",
       "      <th></th>\n",
       "      <th>Level</th>\n",
       "      <th>Description</th>\n",
       "      <th>SeriesRefSNDQ</th>\n",
       "      <th>Quarter</th>\n",
       "      <th>Weight</th>\n",
       "      <th>Amount</th>\n",
       "    </tr>\n",
       "  </thead>\n",
       "  <tbody>\n",
       "    <tr>\n",
       "      <th>0</th>\n",
       "      <td>Industry groups</td>\n",
       "      <td>Agriculture</td>\n",
       "      <td>SG01RSC04B01AA1</td>\n",
       "      <td>1987Q2</td>\n",
       "      <td>0.049996</td>\n",
       "      <td>1594.202</td>\n",
       "    </tr>\n",
       "    <tr>\n",
       "      <th>1</th>\n",
       "      <td>Industry groups</td>\n",
       "      <td>Forestry and logging</td>\n",
       "      <td>SG01RSC04B01AA2</td>\n",
       "      <td>1987Q2</td>\n",
       "      <td>0.004201</td>\n",
       "      <td>120.463</td>\n",
       "    </tr>\n",
       "    <tr>\n",
       "      <th>2</th>\n",
       "      <td>Industry groups</td>\n",
       "      <td>Fishing, aquaculture and agriculture, forestry...</td>\n",
       "      <td>SG01RSC04B01AA3</td>\n",
       "      <td>1987Q2</td>\n",
       "      <td>0.006766</td>\n",
       "      <td>201.055</td>\n",
       "    </tr>\n",
       "    <tr>\n",
       "      <th>3</th>\n",
       "      <td>Industry groups</td>\n",
       "      <td>Mining</td>\n",
       "      <td>SG01RSC04B01BB1</td>\n",
       "      <td>1987Q2</td>\n",
       "      <td>0.014021</td>\n",
       "      <td>535.683</td>\n",
       "    </tr>\n",
       "    <tr>\n",
       "      <th>4</th>\n",
       "      <td>Industry groups</td>\n",
       "      <td>Food, beverage, and tobacco manufacturing</td>\n",
       "      <td>SG01RSC04B01CC1</td>\n",
       "      <td>1987Q2</td>\n",
       "      <td>0.056429</td>\n",
       "      <td>1160.791</td>\n",
       "    </tr>\n",
       "    <tr>\n",
       "      <th>...</th>\n",
       "      <td>...</td>\n",
       "      <td>...</td>\n",
       "      <td>...</td>\n",
       "      <td>...</td>\n",
       "      <td>...</td>\n",
       "      <td>...</td>\n",
       "    </tr>\n",
       "    <tr>\n",
       "      <th>7393</th>\n",
       "      <td>Total GDP</td>\n",
       "      <td>GDP</td>\n",
       "      <td>SG01RSC00B01</td>\n",
       "      <td>2020Q2</td>\n",
       "      <td>1.000000</td>\n",
       "      <td>57569.321</td>\n",
       "    </tr>\n",
       "    <tr>\n",
       "      <th>7394</th>\n",
       "      <td>Total GDP</td>\n",
       "      <td>GDP</td>\n",
       "      <td>SG01RSC00B01</td>\n",
       "      <td>2020Q3</td>\n",
       "      <td>1.000000</td>\n",
       "      <td>65586.034</td>\n",
       "    </tr>\n",
       "    <tr>\n",
       "      <th>7395</th>\n",
       "      <td>Total GDP</td>\n",
       "      <td>GDP</td>\n",
       "      <td>SG01RSC00B01</td>\n",
       "      <td>2020Q4</td>\n",
       "      <td>1.000000</td>\n",
       "      <td>64901.453</td>\n",
       "    </tr>\n",
       "    <tr>\n",
       "      <th>7396</th>\n",
       "      <td>Total GDP</td>\n",
       "      <td>GDP</td>\n",
       "      <td>SG01RSC00B01</td>\n",
       "      <td>2021Q1</td>\n",
       "      <td>1.000000</td>\n",
       "      <td>65778.203</td>\n",
       "    </tr>\n",
       "    <tr>\n",
       "      <th>7397</th>\n",
       "      <td>Total GDP</td>\n",
       "      <td>GDP</td>\n",
       "      <td>SG01RSC00B01</td>\n",
       "      <td>2021Q2</td>\n",
       "      <td>1.000000</td>\n",
       "      <td>67587.584</td>\n",
       "    </tr>\n",
       "  </tbody>\n",
       "</table>\n",
       "<p>7398 rows × 6 columns</p>\n",
       "</div>"
      ],
      "text/plain": [
       "                Level                                        Description  \\\n",
       "0     Industry groups                                        Agriculture   \n",
       "1     Industry groups                               Forestry and logging   \n",
       "2     Industry groups  Fishing, aquaculture and agriculture, forestry...   \n",
       "3     Industry groups                                             Mining   \n",
       "4     Industry groups          Food, beverage, and tobacco manufacturing   \n",
       "...               ...                                                ...   \n",
       "7393        Total GDP                                                GDP   \n",
       "7394        Total GDP                                                GDP   \n",
       "7395        Total GDP                                                GDP   \n",
       "7396        Total GDP                                                GDP   \n",
       "7397        Total GDP                                                GDP   \n",
       "\n",
       "        SeriesRefSNDQ Quarter    Weight     Amount  \n",
       "0     SG01RSC04B01AA1  1987Q2  0.049996   1594.202  \n",
       "1     SG01RSC04B01AA2  1987Q2  0.004201    120.463  \n",
       "2     SG01RSC04B01AA3  1987Q2  0.006766    201.055  \n",
       "3     SG01RSC04B01BB1  1987Q2  0.014021    535.683  \n",
       "4     SG01RSC04B01CC1  1987Q2  0.056429   1160.791  \n",
       "...               ...     ...       ...        ...  \n",
       "7393     SG01RSC00B01  2020Q2  1.000000  57569.321  \n",
       "7394     SG01RSC00B01  2020Q3  1.000000  65586.034  \n",
       "7395     SG01RSC00B01  2020Q4  1.000000  64901.453  \n",
       "7396     SG01RSC00B01  2021Q1  1.000000  65778.203  \n",
       "7397     SG01RSC00B01  2021Q2  1.000000  67587.584  \n",
       "\n",
       "[7398 rows x 6 columns]"
      ]
     },
     "execution_count": 6,
     "metadata": {},
     "output_type": "execute_result"
    }
   ],
   "source": [
    "dataset"
   ]
  },
  {
   "cell_type": "code",
   "execution_count": 7,
   "id": "b8168214",
   "metadata": {},
   "outputs": [
    {
     "data": {
      "text/plain": [
       "(7398, 6)"
      ]
     },
     "execution_count": 7,
     "metadata": {},
     "output_type": "execute_result"
    }
   ],
   "source": [
    "dataset.shape"
   ]
  },
  {
   "cell_type": "code",
   "execution_count": 9,
   "id": "e56c5ca9",
   "metadata": {},
   "outputs": [
    {
     "data": {
      "text/html": [
       "<div>\n",
       "<style scoped>\n",
       "    .dataframe tbody tr th:only-of-type {\n",
       "        vertical-align: middle;\n",
       "    }\n",
       "\n",
       "    .dataframe tbody tr th {\n",
       "        vertical-align: top;\n",
       "    }\n",
       "\n",
       "    .dataframe thead th {\n",
       "        text-align: right;\n",
       "    }\n",
       "</style>\n",
       "<table border=\"1\" class=\"dataframe\">\n",
       "  <thead>\n",
       "    <tr style=\"text-align: right;\">\n",
       "      <th></th>\n",
       "      <th>Level</th>\n",
       "      <th>Description</th>\n",
       "      <th>SeriesRefSNDQ</th>\n",
       "      <th>Quarter</th>\n",
       "      <th>Weight</th>\n",
       "      <th>Amount</th>\n",
       "    </tr>\n",
       "  </thead>\n",
       "  <tbody>\n",
       "    <tr>\n",
       "      <th>0</th>\n",
       "      <td>Industry groups</td>\n",
       "      <td>Agriculture</td>\n",
       "      <td>SG01RSC04B01AA1</td>\n",
       "      <td>1987Q2</td>\n",
       "      <td>0.049996</td>\n",
       "      <td>1594.202</td>\n",
       "    </tr>\n",
       "    <tr>\n",
       "      <th>1</th>\n",
       "      <td>Industry groups</td>\n",
       "      <td>Forestry and logging</td>\n",
       "      <td>SG01RSC04B01AA2</td>\n",
       "      <td>1987Q2</td>\n",
       "      <td>0.004201</td>\n",
       "      <td>120.463</td>\n",
       "    </tr>\n",
       "    <tr>\n",
       "      <th>2</th>\n",
       "      <td>Industry groups</td>\n",
       "      <td>Fishing, aquaculture and agriculture, forestry...</td>\n",
       "      <td>SG01RSC04B01AA3</td>\n",
       "      <td>1987Q2</td>\n",
       "      <td>0.006766</td>\n",
       "      <td>201.055</td>\n",
       "    </tr>\n",
       "    <tr>\n",
       "      <th>3</th>\n",
       "      <td>Industry groups</td>\n",
       "      <td>Mining</td>\n",
       "      <td>SG01RSC04B01BB1</td>\n",
       "      <td>1987Q2</td>\n",
       "      <td>0.014021</td>\n",
       "      <td>535.683</td>\n",
       "    </tr>\n",
       "    <tr>\n",
       "      <th>4</th>\n",
       "      <td>Industry groups</td>\n",
       "      <td>Food, beverage, and tobacco manufacturing</td>\n",
       "      <td>SG01RSC04B01CC1</td>\n",
       "      <td>1987Q2</td>\n",
       "      <td>0.056429</td>\n",
       "      <td>1160.791</td>\n",
       "    </tr>\n",
       "  </tbody>\n",
       "</table>\n",
       "</div>"
      ],
      "text/plain": [
       "             Level                                        Description  \\\n",
       "0  Industry groups                                        Agriculture   \n",
       "1  Industry groups                               Forestry and logging   \n",
       "2  Industry groups  Fishing, aquaculture and agriculture, forestry...   \n",
       "3  Industry groups                                             Mining   \n",
       "4  Industry groups          Food, beverage, and tobacco manufacturing   \n",
       "\n",
       "     SeriesRefSNDQ Quarter    Weight    Amount  \n",
       "0  SG01RSC04B01AA1  1987Q2  0.049996  1594.202  \n",
       "1  SG01RSC04B01AA2  1987Q2  0.004201   120.463  \n",
       "2  SG01RSC04B01AA3  1987Q2  0.006766   201.055  \n",
       "3  SG01RSC04B01BB1  1987Q2  0.014021   535.683  \n",
       "4  SG01RSC04B01CC1  1987Q2  0.056429  1160.791  "
      ]
     },
     "execution_count": 9,
     "metadata": {},
     "output_type": "execute_result"
    }
   ],
   "source": [
    "dataset.head()"
   ]
  },
  {
   "cell_type": "code",
   "execution_count": 11,
   "id": "f7cdb5f7",
   "metadata": {},
   "outputs": [
    {
     "data": {
      "text/html": [
       "<div>\n",
       "<style scoped>\n",
       "    .dataframe tbody tr th:only-of-type {\n",
       "        vertical-align: middle;\n",
       "    }\n",
       "\n",
       "    .dataframe tbody tr th {\n",
       "        vertical-align: top;\n",
       "    }\n",
       "\n",
       "    .dataframe thead th {\n",
       "        text-align: right;\n",
       "    }\n",
       "</style>\n",
       "<table border=\"1\" class=\"dataframe\">\n",
       "  <thead>\n",
       "    <tr style=\"text-align: right;\">\n",
       "      <th></th>\n",
       "      <th>Weight</th>\n",
       "      <th>Amount</th>\n",
       "    </tr>\n",
       "  </thead>\n",
       "  <tbody>\n",
       "    <tr>\n",
       "      <th>0</th>\n",
       "      <td>0.049996</td>\n",
       "      <td>1594.202</td>\n",
       "    </tr>\n",
       "    <tr>\n",
       "      <th>1</th>\n",
       "      <td>0.004201</td>\n",
       "      <td>120.463</td>\n",
       "    </tr>\n",
       "    <tr>\n",
       "      <th>2</th>\n",
       "      <td>0.006766</td>\n",
       "      <td>201.055</td>\n",
       "    </tr>\n",
       "    <tr>\n",
       "      <th>3</th>\n",
       "      <td>0.014021</td>\n",
       "      <td>535.683</td>\n",
       "    </tr>\n",
       "    <tr>\n",
       "      <th>4</th>\n",
       "      <td>0.056429</td>\n",
       "      <td>1160.791</td>\n",
       "    </tr>\n",
       "  </tbody>\n",
       "</table>\n",
       "</div>"
      ],
      "text/plain": [
       "     Weight    Amount\n",
       "0  0.049996  1594.202\n",
       "1  0.004201   120.463\n",
       "2  0.006766   201.055\n",
       "3  0.014021   535.683\n",
       "4  0.056429  1160.791"
      ]
     },
     "execution_count": 11,
     "metadata": {},
     "output_type": "execute_result"
    }
   ],
   "source": [
    "dos = pd.read_csv(\"Gross.csv\")\n",
    "dos = dos.drop(['Level','Description','SeriesRefSNDQ','Quarter'],axis = 1)\n",
    "dos.head()"
   ]
  },
  {
   "cell_type": "code",
   "execution_count": 12,
   "id": "37c61600",
   "metadata": {},
   "outputs": [
    {
     "data": {
      "text/html": [
       "<div>\n",
       "<style scoped>\n",
       "    .dataframe tbody tr th:only-of-type {\n",
       "        vertical-align: middle;\n",
       "    }\n",
       "\n",
       "    .dataframe tbody tr th {\n",
       "        vertical-align: top;\n",
       "    }\n",
       "\n",
       "    .dataframe thead th {\n",
       "        text-align: right;\n",
       "    }\n",
       "</style>\n",
       "<table border=\"1\" class=\"dataframe\">\n",
       "  <thead>\n",
       "    <tr style=\"text-align: right;\">\n",
       "      <th></th>\n",
       "      <th>Level</th>\n",
       "      <th>Description</th>\n",
       "      <th>SeriesRefSNDQ</th>\n",
       "      <th>Quarter</th>\n",
       "      <th>Weight</th>\n",
       "      <th>Amount</th>\n",
       "    </tr>\n",
       "  </thead>\n",
       "  <tbody>\n",
       "    <tr>\n",
       "      <th>0</th>\n",
       "      <td>Industry groups</td>\n",
       "      <td>Agriculture</td>\n",
       "      <td>SG01RSC04B01AA1</td>\n",
       "      <td>1987Q2</td>\n",
       "      <td>0.049996</td>\n",
       "      <td>1594.202</td>\n",
       "    </tr>\n",
       "    <tr>\n",
       "      <th>1</th>\n",
       "      <td>Industry groups</td>\n",
       "      <td>Forestry and logging</td>\n",
       "      <td>SG01RSC04B01AA2</td>\n",
       "      <td>1987Q2</td>\n",
       "      <td>0.004201</td>\n",
       "      <td>120.463</td>\n",
       "    </tr>\n",
       "    <tr>\n",
       "      <th>2</th>\n",
       "      <td>Industry groups</td>\n",
       "      <td>Fishing, aquaculture and agriculture, forestry...</td>\n",
       "      <td>SG01RSC04B01AA3</td>\n",
       "      <td>1987Q2</td>\n",
       "      <td>0.006766</td>\n",
       "      <td>201.055</td>\n",
       "    </tr>\n",
       "    <tr>\n",
       "      <th>3</th>\n",
       "      <td>Industry groups</td>\n",
       "      <td>Mining</td>\n",
       "      <td>SG01RSC04B01BB1</td>\n",
       "      <td>1987Q2</td>\n",
       "      <td>0.014021</td>\n",
       "      <td>535.683</td>\n",
       "    </tr>\n",
       "    <tr>\n",
       "      <th>4</th>\n",
       "      <td>Industry groups</td>\n",
       "      <td>Food, beverage, and tobacco manufacturing</td>\n",
       "      <td>SG01RSC04B01CC1</td>\n",
       "      <td>1987Q2</td>\n",
       "      <td>0.056429</td>\n",
       "      <td>1160.791</td>\n",
       "    </tr>\n",
       "    <tr>\n",
       "      <th>...</th>\n",
       "      <td>...</td>\n",
       "      <td>...</td>\n",
       "      <td>...</td>\n",
       "      <td>...</td>\n",
       "      <td>...</td>\n",
       "      <td>...</td>\n",
       "    </tr>\n",
       "    <tr>\n",
       "      <th>7393</th>\n",
       "      <td>Total GDP</td>\n",
       "      <td>GDP</td>\n",
       "      <td>SG01RSC00B01</td>\n",
       "      <td>2020Q2</td>\n",
       "      <td>1.000000</td>\n",
       "      <td>57569.321</td>\n",
       "    </tr>\n",
       "    <tr>\n",
       "      <th>7394</th>\n",
       "      <td>Total GDP</td>\n",
       "      <td>GDP</td>\n",
       "      <td>SG01RSC00B01</td>\n",
       "      <td>2020Q3</td>\n",
       "      <td>1.000000</td>\n",
       "      <td>65586.034</td>\n",
       "    </tr>\n",
       "    <tr>\n",
       "      <th>7395</th>\n",
       "      <td>Total GDP</td>\n",
       "      <td>GDP</td>\n",
       "      <td>SG01RSC00B01</td>\n",
       "      <td>2020Q4</td>\n",
       "      <td>1.000000</td>\n",
       "      <td>64901.453</td>\n",
       "    </tr>\n",
       "    <tr>\n",
       "      <th>7396</th>\n",
       "      <td>Total GDP</td>\n",
       "      <td>GDP</td>\n",
       "      <td>SG01RSC00B01</td>\n",
       "      <td>2021Q1</td>\n",
       "      <td>1.000000</td>\n",
       "      <td>65778.203</td>\n",
       "    </tr>\n",
       "    <tr>\n",
       "      <th>7397</th>\n",
       "      <td>Total GDP</td>\n",
       "      <td>GDP</td>\n",
       "      <td>SG01RSC00B01</td>\n",
       "      <td>2021Q2</td>\n",
       "      <td>1.000000</td>\n",
       "      <td>67587.584</td>\n",
       "    </tr>\n",
       "  </tbody>\n",
       "</table>\n",
       "<p>7398 rows × 6 columns</p>\n",
       "</div>"
      ],
      "text/plain": [
       "                Level                                        Description  \\\n",
       "0     Industry groups                                        Agriculture   \n",
       "1     Industry groups                               Forestry and logging   \n",
       "2     Industry groups  Fishing, aquaculture and agriculture, forestry...   \n",
       "3     Industry groups                                             Mining   \n",
       "4     Industry groups          Food, beverage, and tobacco manufacturing   \n",
       "...               ...                                                ...   \n",
       "7393        Total GDP                                                GDP   \n",
       "7394        Total GDP                                                GDP   \n",
       "7395        Total GDP                                                GDP   \n",
       "7396        Total GDP                                                GDP   \n",
       "7397        Total GDP                                                GDP   \n",
       "\n",
       "        SeriesRefSNDQ Quarter    Weight     Amount  \n",
       "0     SG01RSC04B01AA1  1987Q2  0.049996   1594.202  \n",
       "1     SG01RSC04B01AA2  1987Q2  0.004201    120.463  \n",
       "2     SG01RSC04B01AA3  1987Q2  0.006766    201.055  \n",
       "3     SG01RSC04B01BB1  1987Q2  0.014021    535.683  \n",
       "4     SG01RSC04B01CC1  1987Q2  0.056429   1160.791  \n",
       "...               ...     ...       ...        ...  \n",
       "7393     SG01RSC00B01  2020Q2  1.000000  57569.321  \n",
       "7394     SG01RSC00B01  2020Q3  1.000000  65586.034  \n",
       "7395     SG01RSC00B01  2020Q4  1.000000  64901.453  \n",
       "7396     SG01RSC00B01  2021Q1  1.000000  65778.203  \n",
       "7397     SG01RSC00B01  2021Q2  1.000000  67587.584  \n",
       "\n",
       "[7398 rows x 6 columns]"
      ]
     },
     "execution_count": 12,
     "metadata": {},
     "output_type": "execute_result"
    }
   ],
   "source": [
    "dataset"
   ]
  },
  {
   "cell_type": "code",
   "execution_count": 14,
   "id": "3ca9a731",
   "metadata": {},
   "outputs": [],
   "source": [
    "x = dataset.iloc[:,4]"
   ]
  },
  {
   "cell_type": "code",
   "execution_count": 15,
   "id": "756d4324",
   "metadata": {},
   "outputs": [
    {
     "data": {
      "text/plain": [
       "(7398,)"
      ]
     },
     "execution_count": 15,
     "metadata": {},
     "output_type": "execute_result"
    }
   ],
   "source": [
    "x.shape"
   ]
  },
  {
   "cell_type": "code",
   "execution_count": 16,
   "id": "d659d902",
   "metadata": {},
   "outputs": [
    {
     "data": {
      "text/plain": [
       "0       0.049996\n",
       "1       0.004201\n",
       "2       0.006766\n",
       "3       0.014021\n",
       "4       0.056429\n",
       "          ...   \n",
       "7393    1.000000\n",
       "7394    1.000000\n",
       "7395    1.000000\n",
       "7396    1.000000\n",
       "7397    1.000000\n",
       "Name: Weight, Length: 7398, dtype: float64"
      ]
     },
     "execution_count": 16,
     "metadata": {},
     "output_type": "execute_result"
    }
   ],
   "source": [
    "x"
   ]
  },
  {
   "cell_type": "code",
   "execution_count": 17,
   "id": "6fcd222c",
   "metadata": {},
   "outputs": [],
   "source": [
    "x = dataset.iloc[:,4].values.reshape(-1,1)"
   ]
  },
  {
   "cell_type": "code",
   "execution_count": 18,
   "id": "36af2e6c",
   "metadata": {},
   "outputs": [
    {
     "data": {
      "text/plain": [
       "(7398, 1)"
      ]
     },
     "execution_count": 18,
     "metadata": {},
     "output_type": "execute_result"
    }
   ],
   "source": [
    "x.shape"
   ]
  },
  {
   "cell_type": "code",
   "execution_count": 19,
   "id": "fc0265ed",
   "metadata": {},
   "outputs": [
    {
     "data": {
      "text/plain": [
       "array([[0.049996 ],\n",
       "       [0.0042006],\n",
       "       [0.0067661],\n",
       "       ...,\n",
       "       [1.       ],\n",
       "       [1.       ],\n",
       "       [1.       ]])"
      ]
     },
     "execution_count": 19,
     "metadata": {},
     "output_type": "execute_result"
    }
   ],
   "source": [
    "x"
   ]
  },
  {
   "cell_type": "code",
   "execution_count": 20,
   "id": "82aed689",
   "metadata": {},
   "outputs": [],
   "source": [
    "y = dataset.iloc[:,-1].values.reshape(-1,1)"
   ]
  },
  {
   "cell_type": "code",
   "execution_count": 21,
   "id": "9cb4b5eb",
   "metadata": {},
   "outputs": [
    {
     "data": {
      "text/plain": [
       "(7398, 1)"
      ]
     },
     "execution_count": 21,
     "metadata": {},
     "output_type": "execute_result"
    }
   ],
   "source": [
    "y.shape"
   ]
  },
  {
   "cell_type": "code",
   "execution_count": 22,
   "id": "37151530",
   "metadata": {},
   "outputs": [
    {
     "data": {
      "text/plain": [
       "array([[ 1594.202],\n",
       "       [  120.463],\n",
       "       [  201.055],\n",
       "       ...,\n",
       "       [64901.453],\n",
       "       [65778.203],\n",
       "       [67587.584]])"
      ]
     },
     "execution_count": 22,
     "metadata": {},
     "output_type": "execute_result"
    }
   ],
   "source": [
    "y"
   ]
  },
  {
   "cell_type": "code",
   "execution_count": 23,
   "id": "3ef76a1a",
   "metadata": {},
   "outputs": [
    {
     "data": {
      "text/plain": [
       "<matplotlib.collections.PathCollection at 0x22c28fc16a0>"
      ]
     },
     "execution_count": 23,
     "metadata": {},
     "output_type": "execute_result"
    },
    {
     "data": {
      "image/png": "[encoded data removed]",
      "text/plain": [
       "<Figure size 432x288 with 1 Axes>"
      ]
     },
     "metadata": {
      "needs_background": "light"
     },
     "output_type": "display_data"
    }
   ],
   "source": [
    "plt.scatter(x,y)"
   ]
  },
  {
   "cell_type": "code",
   "execution_count": 24,
   "id": "c70fc622",
   "metadata": {},
   "outputs": [],
   "source": [
    "from sklearn.model_selection import train_test_split"
   ]
  },
  {
   "cell_type": "code",
   "execution_count": 25,
   "id": "bdf1c3ab",
   "metadata": {},
   "outputs": [],
   "source": [
    "x_train, x_test, y_train, y_test = train_test_split(x,y,test_size = 0.2,random_state=0)"
   ]
  },
  {
   "cell_type": "code",
   "execution_count": 26,
   "id": "0320ba30",
   "metadata": {},
   "outputs": [
    {
     "data": {
      "text/plain": [
       "(5918, 1)"
      ]
     },
     "execution_count": 26,
     "metadata": {},
     "output_type": "execute_result"
    }
   ],
   "source": [
    "x_train.shape"
   ]
  },
  {
   "cell_type": "code",
   "execution_count": 27,
   "id": "57279cc3",
   "metadata": {},
   "outputs": [
    {
     "data": {
      "text/plain": [
       "(1480, 1)"
      ]
     },
     "execution_count": 27,
     "metadata": {},
     "output_type": "execute_result"
    }
   ],
   "source": [
    "x_test.shape"
   ]
  },
  {
   "cell_type": "code",
   "execution_count": 28,
   "id": "5603373f",
   "metadata": {},
   "outputs": [
    {
     "data": {
      "text/plain": [
       "(5918, 1)"
      ]
     },
     "execution_count": 28,
     "metadata": {},
     "output_type": "execute_result"
    }
   ],
   "source": [
    "y_train.shape"
   ]
  },
  {
   "cell_type": "code",
   "execution_count": 30,
   "id": "30e555e9",
   "metadata": {},
   "outputs": [
    {
     "data": {
      "text/plain": [
       "(1480, 1)"
      ]
     },
     "execution_count": 30,
     "metadata": {},
     "output_type": "execute_result"
    }
   ],
   "source": [
    "y_test.shape"
   ]
  },
  {
   "cell_type": "code",
   "execution_count": 31,
   "id": "ed940683",
   "metadata": {},
   "outputs": [],
   "source": [
    "from sklearn.linear_model import LinearRegression"
   ]
  },
  {
   "cell_type": "code",
   "execution_count": 32,
   "id": "9be38482",
   "metadata": {},
   "outputs": [],
   "source": [
    "lm = LinearRegression()"
   ]
  },
  {
   "cell_type": "code",
   "execution_count": 33,
   "id": "b596b0cb",
   "metadata": {},
   "outputs": [
    {
     "data": {
      "text/plain": [
       "LinearRegression()"
      ]
     },
     "execution_count": 33,
     "metadata": {},
     "output_type": "execute_result"
    }
   ],
   "source": [
    "lm.fit(x_train,y_train)"
   ]
  },
  {
   "cell_type": "code",
   "execution_count": 34,
   "id": "8036da42",
   "metadata": {},
   "outputs": [],
   "source": [
    "y_pred = lm.predict(x_test)"
   ]
  },
  {
   "cell_type": "code",
   "execution_count": 35,
   "id": "22232ae6",
   "metadata": {},
   "outputs": [
    {
     "data": {
      "text/plain": [
       "array([[ 566.16651493],\n",
       "       [ 369.02021842],\n",
       "       [1761.89428719],\n",
       "       ...,\n",
       "       [ 429.62707712],\n",
       "       [ 857.4433069 ],\n",
       "       [2088.20570245]])"
      ]
     },
     "execution_count": 35,
     "metadata": {},
     "output_type": "execute_result"
    }
   ],
   "source": [
    "y_pred"
   ]
  },
  {
   "cell_type": "code",
   "execution_count": 42,
   "id": "87b3b537",
   "metadata": {},
   "outputs": [],
   "source": [
    "check = pd.DataFrame(x_test,columns = ['Weight'])"
   ]
  },
  {
   "cell_type": "code",
   "execution_count": 43,
   "id": "1223d3b3",
   "metadata": {},
   "outputs": [],
   "source": [
    "check['Domastic Actual']=y_test"
   ]
  },
  {
   "cell_type": "code",
   "execution_count": 44,
   "id": "e75b98c0",
   "metadata": {},
   "outputs": [],
   "source": [
    "check['Domastic Prediction']=y_pred"
   ]
  },
  {
   "cell_type": "code",
   "execution_count": 45,
   "id": "c581611c",
   "metadata": {},
   "outputs": [
    {
     "data": {
      "text/html": [
       "<div>\n",
       "<style scoped>\n",
       "    .dataframe tbody tr th:only-of-type {\n",
       "        vertical-align: middle;\n",
       "    }\n",
       "\n",
       "    .dataframe tbody tr th {\n",
       "        vertical-align: top;\n",
       "    }\n",
       "\n",
       "    .dataframe thead th {\n",
       "        text-align: right;\n",
       "    }\n",
       "</style>\n",
       "<table border=\"1\" class=\"dataframe\">\n",
       "  <thead>\n",
       "    <tr style=\"text-align: right;\">\n",
       "      <th></th>\n",
       "      <th>Weight</th>\n",
       "      <th>Domastic Actual</th>\n",
       "      <th>Domastic Prediction</th>\n",
       "    </tr>\n",
       "  </thead>\n",
       "  <tbody>\n",
       "    <tr>\n",
       "      <th>0</th>\n",
       "      <td>0.013016</td>\n",
       "      <td>852.840</td>\n",
       "      <td>566.166515</td>\n",
       "    </tr>\n",
       "    <tr>\n",
       "      <th>1</th>\n",
       "      <td>0.008541</td>\n",
       "      <td>246.382</td>\n",
       "      <td>369.020218</td>\n",
       "    </tr>\n",
       "    <tr>\n",
       "      <th>2</th>\n",
       "      <td>0.040159</td>\n",
       "      <td>478.938</td>\n",
       "      <td>1761.894287</td>\n",
       "    </tr>\n",
       "    <tr>\n",
       "      <th>3</th>\n",
       "      <td>0.035692</td>\n",
       "      <td>1176.492</td>\n",
       "      <td>1565.087192</td>\n",
       "    </tr>\n",
       "    <tr>\n",
       "      <th>4</th>\n",
       "      <td>0.048558</td>\n",
       "      <td>3231.557</td>\n",
       "      <td>2131.865724</td>\n",
       "    </tr>\n",
       "    <tr>\n",
       "      <th>...</th>\n",
       "      <td>...</td>\n",
       "      <td>...</td>\n",
       "      <td>...</td>\n",
       "    </tr>\n",
       "    <tr>\n",
       "      <th>1475</th>\n",
       "      <td>0.029769</td>\n",
       "      <td>1122.794</td>\n",
       "      <td>1304.193123</td>\n",
       "    </tr>\n",
       "    <tr>\n",
       "      <th>1476</th>\n",
       "      <td>0.044038</td>\n",
       "      <td>458.462</td>\n",
       "      <td>1932.754705</td>\n",
       "    </tr>\n",
       "    <tr>\n",
       "      <th>1477</th>\n",
       "      <td>0.009916</td>\n",
       "      <td>547.283</td>\n",
       "      <td>429.627077</td>\n",
       "    </tr>\n",
       "    <tr>\n",
       "      <th>1478</th>\n",
       "      <td>0.019628</td>\n",
       "      <td>1183.417</td>\n",
       "      <td>857.443307</td>\n",
       "    </tr>\n",
       "    <tr>\n",
       "      <th>1479</th>\n",
       "      <td>0.047567</td>\n",
       "      <td>1975.016</td>\n",
       "      <td>2088.205702</td>\n",
       "    </tr>\n",
       "  </tbody>\n",
       "</table>\n",
       "<p>1480 rows × 3 columns</p>\n",
       "</div>"
      ],
      "text/plain": [
       "        Weight  Domastic Actual  Domastic Prediction\n",
       "0     0.013016          852.840           566.166515\n",
       "1     0.008541          246.382           369.020218\n",
       "2     0.040159          478.938          1761.894287\n",
       "3     0.035692         1176.492          1565.087192\n",
       "4     0.048558         3231.557          2131.865724\n",
       "...        ...              ...                  ...\n",
       "1475  0.029769         1122.794          1304.193123\n",
       "1476  0.044038          458.462          1932.754705\n",
       "1477  0.009916          547.283           429.627077\n",
       "1478  0.019628         1183.417           857.443307\n",
       "1479  0.047567         1975.016          2088.205702\n",
       "\n",
       "[1480 rows x 3 columns]"
      ]
     },
     "execution_count": 45,
     "metadata": {},
     "output_type": "execute_result"
    }
   ],
   "source": [
    "check"
   ]
  },
  {
   "cell_type": "code",
   "execution_count": 46,
   "id": "4cc97eea",
   "metadata": {},
   "outputs": [
    {
     "data": {
      "text/plain": [
       "[<matplotlib.lines.Line2D at 0x22c2bcf99d0>]"
      ]
     },
     "execution_count": 46,
     "metadata": {},
     "output_type": "execute_result"
    },
    {
     "data": {
      "image/png": "[encoded data removed]",
      "text/plain": [
       "<Figure size 432x288 with 1 Axes>"
      ]
     },
     "metadata": {
      "needs_background": "light"
     },
     "output_type": "display_data"
    }
   ],
   "source": [
    "plt.scatter(x,y,color = 'blue')\n",
    "plt.plot(x_test,y_pred,color = 'red')"
   ]
  },
  {
   "cell_type": "code",
   "execution_count": null,
   "id": "0fd8c98e",
   "metadata": {},
   "outputs": [],
   "source": []
  }
 ],
 "metadata": {
  "kernelspec": {
   "display_name": "Python 3",
   "language": "python",
   "name": "python3"
  },
  "language_info": {
   "codemirror_mode": {
    "name": "ipython",
    "version": 3
   },
   "file_extension": ".py",
   "mimetype": "text/x-python",
   "name": "python",
   "nbconvert_exporter": "python",
   "pygments_lexer": "ipython3",
   "version": "3.8.8"
  }
 },
 "nbformat": 4,
 "nbformat_minor": 5
}
